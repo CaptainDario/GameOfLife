{
 "cells": [
  {
   "cell_type": "markdown",
   "metadata": {},
   "source": [
    "### Projekt : Horton Conway's Game of Life"
   ]
  },
  {
   "cell_type": "markdown",
   "metadata": {},
   "source": [
    "Game of Life bezeichnet einen deterministischen zellulaeren Automaten welcher 1970 vom\n",
    "britischen Mathematiker John Horton Conway entwickelt wurde. Die Zellen eines zweidimensionalen\n",
    "Feldes $M_{ij}(t)$ besitzen einen von zwei Zustaenden, welche zum Beispiel als `leer` und\n",
    "`besetzt` bezeichnet werden. \n",
    "\n",
    "Das Feld aendert seine Konfiguration in diskreten Zeitschritten\n",
    "nach deterministischen Regeln. Ob eine Zelle zum naechsten Zeitpunkt `besetzt` ist oder `leer`,\n",
    "haengt vom derzeitigen Zustand der Zelle, sowie der Anzahl $N_{ij}(t)$ der besetzten Nachbarzellen\n",
    "ab. Die Nachbarzellen von $M_{ij}$ sind definiert als $M_{i+k j+l}$ mit $k, l \\in \\{−1, 0, 1\\}$. Somit gilt\n",
    "$0 \\le N_{ij} \\le 8$. Die originalen Regeln des Game of Life lauten wie folgt. Ist $M_{ij}(t)$=`leer` und\n",
    "$N_{ij}(t) = 3$, dann wird diese Zelle zum naechsten Zeitpunkt belegt, also $M_{ij}(t+1)$=`besetzt`. Ist\n",
    "die Zelle `besetzt` und die Anzahl der Nachbarn nicht zu groß oder zu klein, d.h. $2 \\le Nij(t) \\le 3$,\n",
    "so bleibt die Zelle `besetzt`. Ansonsten ”stirbt” die Zelle auf Grund von Ueber- oder Unterpopulation\n",
    "und ist zum naechsten Zeitpunkt $M_{ij}(t + 1)$=`leer`. \n",
    "\n",
    "Diese Regeln werden durch den\n",
    "String \"B3/S23\" kodiert. Auf das Zeichen \"B\" folgt eine Liste von Nachbarzahlen, bei denen\n",
    "eine Zelle geboren wird, d.h von `leer` nach `besetzt` wechselt. Und auf die Symbole \"/S\" folgt\n",
    "eine Liste von Nachbarzahlen, bei denen eine besetzte Zelle `besetzt` bleibt."
   ]
  },
  {
   "cell_type": "markdown",
   "metadata": {},
   "source": [
    "- Minimalziel dieser Projektarbeit ist eine Simulation des Game of Life mit grafischer, animierter Ausgabe der Matrix $M_{ij}(t)$. Die Systemgroesse, Randbedingungen, Anfangsbedingungen und der Regel-String sollen in irgendeiner Form vom Benutzer vorgegeben werden koennen (z.B. als Textdatei).\n",
    "- Demonstrieren Sie Ihr Programm mit interessanten Beispielen.\n",
    "\n",
    "Als Ergebnis der Projektarbeit soll auch ein begleitender Text verfasst werden, welcher Ihre Beschaeftigung mit diesem Projekt dokumentiert, also Vorueberlegungen, Erlaeuterungen und Erkenntnisse Ihrer Arbeit zusammenfasst. Achten Sie auch auf eine gute Dokumentation Ihrer Python Programme mit Hilfe von Kommentaren im Programmcode."
   ]
  },
  {
   "cell_type": "markdown",
   "metadata": {},
   "source": [
    "**Zusatzpunkte** werden auf folgende Erweiterungen vergeben :\n",
    "\n",
    "- grafische Benutzeroberflaeche (z.B. ipython widgets oder `tkinter`)\n",
    "- Event gesteuerte Programmierung (z.B. Start und Stop mit Knopfdruck oder Mauseditierung von $M_{ij}$)\n",
    "- Geschwindigkeitsoptimierung\n",
    "- nachweisliche Verwendung eines Versionskontrollsystems."
   ]
  }
 ],
 "metadata": {
  "kernelspec": {
   "display_name": "Python 3",
   "language": "python",
   "name": "python3"
  },
  "language_info": {
   "codemirror_mode": {
    "name": "ipython",
    "version": 3
   },
   "file_extension": ".py",
   "mimetype": "text/x-python",
   "name": "python",
   "nbconvert_exporter": "python",
   "pygments_lexer": "ipython3",
   "version": "3.7.4"
  }
 },
 "nbformat": 4,
 "nbformat_minor": 1
}
